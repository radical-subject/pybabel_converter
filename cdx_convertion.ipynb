{
 "cells": [
  {
   "cell_type": "code",
   "execution_count": 1,
   "id": "ac67efbf",
   "metadata": {},
   "outputs": [
    {
     "name": "stdout",
     "output_type": "stream",
     "text": [
      "111\n"
     ]
    },
    {
     "name": "stderr",
     "output_type": "stream",
     "text": [
      "/opt/conda/lib/python3.7/site-packages/openbabel/__init__.py:14: UserWarning: \"import openbabel\" is deprecated, instead use \"from openbabel import openbabel\"\n",
      "  warnings.warn('\"import openbabel\" is deprecated, instead use \"from openbabel import openbabel\"')\n",
      "==============================\n",
      "*** Open Babel Error  in TetStereoToWedgeHash\n",
      "  Failed to set stereochemistry as unable to find an available bond\n"
     ]
    },
    {
     "data": {
      "text/plain": [
       "True"
      ]
     },
     "execution_count": 1,
     "metadata": {},
     "output_type": "execute_result"
    }
   ],
   "source": [
    "# import openbabel\n",
    "\n",
    "# # mol = readfile(\"sdf\", \"docetaxel.sdf\").next()\n",
    "\n",
    "# obConversion = openbabel.OBConversion()\n",
    "# obConversion.SetInAndOutFormats(\"cdx\", \"\")\n",
    "\n",
    "# mol = openbabel.OBMol()\n",
    "# obConversion.ReadFile(mol, \"docetaxel.sdf\")\n",
    "\n",
    "# # print 'Should print 5 (atoms)'\n",
    "# print(mol.NumAtoms())\n",
    "\n",
    "# mol.DeleteHydrogens()\n",
    "# outMDL = obConversion.WriteFile(mol, 'removed_H.sdf')\n",
    "# outMDL"
   ]
  },
  {
   "cell_type": "code",
   "execution_count": 4,
   "id": "4ababcba",
   "metadata": {},
   "outputs": [
    {
     "name": "stdout",
     "output_type": "stream",
     "text": [
      "==============================\n",
      "*** Open Babel Warning  in Expand\n",
      "  Alias C was not chemically interpreted\n",
      "\n",
      "==============================\n",
      "*** Open Babel Warning  in Expand\n",
      "  Alias DDE was not chemically interpreted\n",
      "\n",
      "2 molecules converted\n"
     ]
    }
   ],
   "source": [
    "!obabel -icdx input.cdx -O example.rxn\n",
    "\n",
    "import rdkit\n",
    "from rdkit import Chem\n",
    "from rdkit.Chem import AllChem\n",
    "from rdkit.Chem import Draw\n",
    "rxn = AllChem.ReactionFromRxnFile('Example.rxn')\n",
    "k = Draw.ReactionToImage(rxn)\n",
    "k.save('test-Example.png')"
   ]
  },
  {
   "cell_type": "code",
   "execution_count": null,
   "id": "e6c5f176",
   "metadata": {},
   "outputs": [],
   "source": []
  }
 ],
 "metadata": {
  "kernelspec": {
   "display_name": "Python 3 (ipykernel)",
   "language": "python",
   "name": "python3"
  },
  "language_info": {
   "codemirror_mode": {
    "name": "ipython",
    "version": 3
   },
   "file_extension": ".py",
   "mimetype": "text/x-python",
   "name": "python",
   "nbconvert_exporter": "python",
   "pygments_lexer": "ipython3",
   "version": "3.7.12"
  }
 },
 "nbformat": 4,
 "nbformat_minor": 5
}
