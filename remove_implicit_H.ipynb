{
 "cells": [
  {
   "cell_type": "code",
   "execution_count": 21,
   "id": "861974dd",
   "metadata": {},
   "outputs": [
    {
     "name": "stdout",
     "output_type": "stream",
     "text": [
      "111\n"
     ]
    },
    {
     "data": {
      "text/plain": [
       "True"
      ]
     },
     "execution_count": 21,
     "metadata": {},
     "output_type": "execute_result"
    }
   ],
   "source": [
    "!conda install openbabel\n",
    "\n"
   ]
  },
  {
   "cell_type": "code",
   "execution_count": 6,
   "id": "d48c3485",
   "metadata": {},
   "outputs": [
    {
     "name": "stdout",
     "output_type": "stream",
     "text": [
      "111\n"
     ]
    },
    {
     "name": "stderr",
     "output_type": "stream",
     "text": [
      "/opt/conda/lib/python3.7/site-packages/openbabel/__init__.py:14: UserWarning: \"import openbabel\" is deprecated, instead use \"from openbabel import openbabel\"\n",
      "  warnings.warn('\"import openbabel\" is deprecated, instead use \"from openbabel import openbabel\"')\n",
      "==============================\n",
      "*** Open Babel Error  in TetStereoToWedgeHash\n",
      "  Failed to set stereochemistry as unable to find an available bond\n"
     ]
    },
    {
     "data": {
      "text/plain": [
       "True"
      ]
     },
     "execution_count": 6,
     "metadata": {},
     "output_type": "execute_result"
    }
   ],
   "source": [
    "import openbabel\n",
    "\n",
    "# mol = readfile(\"sdf\", \"docetaxel.sdf\").next()\n",
    "\n",
    "obConversion = openbabel.OBConversion()\n",
    "obConversion.SetInAndOutFormats(\"sdf\", \"sdf\")\n",
    "\n",
    "mol = openbabel.OBMol()\n",
    "obConversion.ReadFile(mol, \"docetaxel.sdf\")\n",
    "\n",
    "# print 'Should print 5 (atoms)'\n",
    "print(mol.NumAtoms())\n",
    "\n",
    "mol.DeleteHydrogens()\n",
    "outMDL = obConversion.WriteFile(mol, 'removed_H.sdf')\n",
    "outMDL"
   ]
  },
  {
   "cell_type": "code",
   "execution_count": 20,
   "id": "80d47d46",
   "metadata": {},
   "outputs": [
    {
     "name": "stdout",
     "output_type": "stream",
     "text": [
      "Help on OBConversion in module openbabel.openbabel object:\n",
      "\n",
      "class OBConversion(builtins.object)\n",
      " |  OBConversion(*args)\n",
      " |  \n",
      " |  Methods defined here:\n",
      " |  \n",
      " |  AddChemObject = OBConversion_AddChemObject(...)\n",
      " |  \n",
      " |  AddOption = OBConversion_AddOption(...)\n",
      " |  \n",
      " |  CloseOutFile = OBConversion_CloseOutFile(...)\n",
      " |  \n",
      " |  Convert = OBConversion_Convert(...)\n",
      " |  \n",
      " |  CopyOptions = OBConversion_CopyOptions(...)\n",
      " |  \n",
      " |  FullConvert = OBConversion_FullConvert(...)\n",
      " |  \n",
      " |  GetAuxConv = OBConversion_GetAuxConv(...)\n",
      " |  \n",
      " |  GetChemObject = OBConversion_GetChemObject(...)\n",
      " |  \n",
      " |  GetCount = OBConversion_GetCount(...)\n",
      " |  \n",
      " |  GetInFilename = OBConversion_GetInFilename(...)\n",
      " |  \n",
      " |  GetInFormat = OBConversion_GetInFormat(...)\n",
      " |  \n",
      " |  GetInGzipped = OBConversion_GetInGzipped(...)\n",
      " |  \n",
      " |  GetInLen = OBConversion_GetInLen(...)\n",
      " |  \n",
      " |  GetInPos = OBConversion_GetInPos(...)\n",
      " |  \n",
      " |  GetInStream = OBConversion_GetInStream(...)\n",
      " |  \n",
      " |  GetOptions = OBConversion_GetOptions(...)\n",
      " |  \n",
      " |  GetOutFilename = OBConversion_GetOutFilename(...)\n",
      " |  \n",
      " |  GetOutFormat = OBConversion_GetOutFormat(...)\n",
      " |  \n",
      " |  GetOutGzipped = OBConversion_GetOutGzipped(...)\n",
      " |  \n",
      " |  GetOutStream = OBConversion_GetOutStream(...)\n",
      " |  \n",
      " |  GetOutputIndex = OBConversion_GetOutputIndex(...)\n",
      " |  \n",
      " |  GetSupportedInputFormat = OBConversion_GetSupportedInputFormat(...)\n",
      " |  \n",
      " |  GetSupportedOutputFormat = OBConversion_GetSupportedOutputFormat(...)\n",
      " |  \n",
      " |  GetTitle = OBConversion_GetTitle(...)\n",
      " |  \n",
      " |  IsFirstInput = OBConversion_IsFirstInput(...)\n",
      " |  \n",
      " |  IsLast = OBConversion_IsLast(...)\n",
      " |  \n",
      " |  IsLastFile = OBConversion_IsLastFile(...)\n",
      " |  \n",
      " |  IsOption = OBConversion_IsOption(...)\n",
      " |  \n",
      " |  NumInputObjects = OBConversion_NumInputObjects(...)\n",
      " |  \n",
      " |  OpenInAndOutFiles = OBConversion_OpenInAndOutFiles(...)\n",
      " |  \n",
      " |  Read = OBConversion_Read(...)\n",
      " |  \n",
      " |  ReadFile = OBConversion_ReadFile(...)\n",
      " |  \n",
      " |  ReadString = OBConversion_ReadString(...)\n",
      " |  \n",
      " |  RemoveOption = OBConversion_RemoveOption(...)\n",
      " |  \n",
      " |  ReportNumberConverted = OBConversion_ReportNumberConverted(...)\n",
      " |  \n",
      " |  SetAuxConv = OBConversion_SetAuxConv(...)\n",
      " |  \n",
      " |  SetFirstInput = OBConversion_SetFirstInput(...)\n",
      " |  \n",
      " |  SetInAndOutFormats = OBConversion_SetInAndOutFormats(...)\n",
      " |  \n",
      " |  SetInFormat = OBConversion_SetInFormat(...)\n",
      " |  \n",
      " |  SetInStream = OBConversion_SetInStream(...)\n",
      " |  \n",
      " |  SetLast = OBConversion_SetLast(...)\n",
      " |  \n",
      " |  SetMoreFilesToCome = OBConversion_SetMoreFilesToCome(...)\n",
      " |  \n",
      " |  SetOneObjectOnly = OBConversion_SetOneObjectOnly(...)\n",
      " |  \n",
      " |  SetOptions = OBConversion_SetOptions(...)\n",
      " |  \n",
      " |  SetOutFormat = OBConversion_SetOutFormat(...)\n",
      " |  \n",
      " |  SetOutStream = OBConversion_SetOutStream(...)\n",
      " |  \n",
      " |  SetOutputIndex = OBConversion_SetOutputIndex(...)\n",
      " |  \n",
      " |  Write = OBConversion_Write(...)\n",
      " |  \n",
      " |  WriteFile = OBConversion_WriteFile(...)\n",
      " |  \n",
      " |  WriteString = OBConversion_WriteString(...)\n",
      " |  \n",
      " |  __init__(self, *args)\n",
      " |      Initialize self.  See help(type(self)) for accurate signature.\n",
      " |  \n",
      " |  __repr__ = _swig_repr(self)\n",
      " |  \n",
      " |  ----------------------------------------------------------------------\n",
      " |  Static methods defined here:\n",
      " |  \n",
      " |  Description = OBConversion_Description(...)\n",
      " |  \n",
      " |  FindFormat = OBConversion_FindFormat(...)\n",
      " |  \n",
      " |  FormatFromExt = OBConversion_FormatFromExt(...)\n",
      " |  \n",
      " |  FormatFromMIME = OBConversion_FormatFromMIME(...)\n",
      " |  \n",
      " |  GetDefaultFormat = OBConversion_GetDefaultFormat(...)\n",
      " |  \n",
      " |  GetOptionParams = OBConversion_GetOptionParams(...)\n",
      " |  \n",
      " |  RegisterFormat = OBConversion_RegisterFormat(...)\n",
      " |  \n",
      " |  RegisterOptionParam = OBConversion_RegisterOptionParam(...)\n",
      " |  \n",
      " |  __swig_destroy__ = delete_OBConversion(...)\n",
      " |  \n",
      " |  ----------------------------------------------------------------------\n",
      " |  Data descriptors defined here:\n",
      " |  \n",
      " |  __dict__\n",
      " |      dictionary for instance variables (if defined)\n",
      " |  \n",
      " |  __weakref__\n",
      " |      list of weak references to the object (if defined)\n",
      " |  \n",
      " |  thisown\n",
      " |      The membership flag\n",
      " |  \n",
      " |  ----------------------------------------------------------------------\n",
      " |  Data and other attributes defined here:\n",
      " |  \n",
      " |  ALL = 3\n",
      " |  \n",
      " |  GENOPTIONS = 2\n",
      " |  \n",
      " |  INOPTIONS = 0\n",
      " |  \n",
      " |  OUTOPTIONS = 1\n",
      "\n"
     ]
    }
   ],
   "source": [
    "help(obConversion)"
   ]
  },
  {
   "cell_type": "code",
   "execution_count": 5,
   "id": "f7aae55c",
   "metadata": {},
   "outputs": [
    {
     "name": "stdout",
     "output_type": "stream",
     "text": [
      "Collecting package metadata (current_repodata.json): done\n",
      "Solving environment: failed with initial frozen solve. Retrying with flexible solve.\n",
      "Solving environment: - ^C\n",
      "failed with repodata from current_repodata.json, will retry with next repodata source.\n",
      "\n",
      "CondaError: KeyboardInterrupt\n",
      "\n"
     ]
    }
   ],
   "source": [
    "!conda install openbabel"
   ]
  },
  {
   "cell_type": "code",
   "execution_count": null,
   "id": "3b1f16f8",
   "metadata": {},
   "outputs": [],
   "source": []
  }
 ],
 "metadata": {
  "kernelspec": {
   "display_name": "Python 3 (ipykernel)",
   "language": "python",
   "name": "python3"
  },
  "language_info": {
   "codemirror_mode": {
    "name": "ipython",
    "version": 3
   },
   "file_extension": ".py",
   "mimetype": "text/x-python",
   "name": "python",
   "nbconvert_exporter": "python",
   "pygments_lexer": "ipython3",
   "version": "3.7.12"
  }
 },
 "nbformat": 4,
 "nbformat_minor": 5
}
